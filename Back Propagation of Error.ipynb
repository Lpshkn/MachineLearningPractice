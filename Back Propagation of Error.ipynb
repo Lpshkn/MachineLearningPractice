{
 "cells": [
  {
   "cell_type": "code",
   "execution_count": 3,
   "metadata": {},
   "outputs": [],
   "source": [
    "import numpy as np"
   ]
  },
  {
   "cell_type": "code",
   "execution_count": 4,
   "metadata": {},
   "outputs": [],
   "source": [
    "X = np.array([\n",
    "    [0, 0, 0],\n",
    "    [0, 0, 1],\n",
    "    [0, 1, 0],\n",
    "    [0, 1, 1],\n",
    "    [1, 0, 0],\n",
    "    [1, 0, 1],\n",
    "    [1, 1, 0],\n",
    "    [1, 1, 1]\n",
    "])\n",
    "\n",
    "y = np.array([\n",
    "    [0, 0, 1],\n",
    "    [0, 1, 0],\n",
    "    [0, 1, 1],\n",
    "    [1, 0, 0],\n",
    "    [1, 0, 1],\n",
    "    [1, 1, 0],\n",
    "    [1, 1, 1],\n",
    "    [0, 0, 0]\n",
    "])"
   ]
  },
  {
   "cell_type": "code",
   "execution_count": 55,
   "metadata": {},
   "outputs": [],
   "source": [
    "class NNetwork:\n",
    "    def __init__(self, layers: list, activate_function='sigmoid'):\n",
    "        self.layers = layers\n",
    "        self.network = None\n",
    "        \n",
    "        if activate_function == 'sigmoid':\n",
    "            self._activate_function = lambda x: 1/(1 + np.exp(-x))\n",
    "            self._derivative_activate_function = lambda x: x * (1.0 - x)\n",
    "        \n",
    "        self._initialize_network()\n",
    "    \n",
    "    def _initialize_network(self):\n",
    "        self.network = list()\n",
    "        for i in range(1, len(self.layers)):\n",
    "            layer = np.random.rand(self.layers[i], self.layers[i-1])\n",
    "            self.network.append(layer)\n",
    "            \n",
    "    def predict(self, inputs: list):\n",
    "        inputs = np.array(inputs).reshape(-1, 1)\n",
    "        for layer in self.network:\n",
    "            inputs = self._activate_function(layer.dot(inputs))\n",
    "        return inputs"
   ]
  },
  {
   "cell_type": "code",
   "execution_count": 56,
   "metadata": {},
   "outputs": [],
   "source": [
    "nn = NNetwork([2, 3, 3])"
   ]
  },
  {
   "cell_type": "code",
   "execution_count": 57,
   "metadata": {},
   "outputs": [
    {
     "data": {
      "text/plain": [
       "[array([[0.88285332, 0.03192954],\n",
       "        [0.68045246, 0.82587061],\n",
       "        [0.07119107, 0.80647094]]),\n",
       " array([[0.78827426, 0.92504214, 0.38159244],\n",
       "        [0.42547838, 0.18853305, 0.18156521],\n",
       "        [0.26617943, 0.99545878, 0.14882649]])]"
      ]
     },
     "execution_count": 57,
     "metadata": {},
     "output_type": "execute_result"
    }
   ],
   "source": [
    "nn.network"
   ]
  },
  {
   "cell_type": "code",
   "execution_count": null,
   "metadata": {},
   "outputs": [],
   "source": []
  }
 ],
 "metadata": {
  "kernelspec": {
   "display_name": "Python 3",
   "language": "python",
   "name": "python3"
  },
  "language_info": {
   "codemirror_mode": {
    "name": "ipython",
    "version": 3
   },
   "file_extension": ".py",
   "mimetype": "text/x-python",
   "name": "python",
   "nbconvert_exporter": "python",
   "pygments_lexer": "ipython3",
   "version": "3.7.6"
  }
 },
 "nbformat": 4,
 "nbformat_minor": 4
}
