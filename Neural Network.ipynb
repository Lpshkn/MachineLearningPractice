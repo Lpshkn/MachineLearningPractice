{
 "cells": [
  {
   "cell_type": "code",
   "execution_count": 94,
   "metadata": {},
   "outputs": [],
   "source": [
    "import numpy as np\n",
    "from sklearn.metrics import mean_squared_error"
   ]
  },
  {
   "cell_type": "markdown",
   "metadata": {},
   "source": [
    "# The neural network class"
   ]
  },
  {
   "cell_type": "code",
   "execution_count": 95,
   "metadata": {},
   "outputs": [],
   "source": [
    "class NNetwork:\n",
    "    def __init__(self, layers: list, activate_function='sigmoid', cost_function='square_error'):\n",
    "        self.layers = layers\n",
    "        self.network = None\n",
    "        \n",
    "        if activate_function == 'sigmoid':\n",
    "            self._activate_function = lambda x: 1/(1 + np.exp(-x))\n",
    "            self._derivative_activate_function = lambda x: x * (1.0 - x)\n",
    "            \n",
    "        if cost_function == 'square_error':\n",
    "            self._cost_function = lambda x, y: 1/2 * (x - y)**2\n",
    "            self._derivative_cost_function = lambda x, y: x - y\n",
    "        \n",
    "        self._initialize_network()\n",
    "    \n",
    "    def _initialize_network(self):\n",
    "        self.network = list()\n",
    "        for i in range(1, len(self.layers)):\n",
    "            layer = np.random.rand(self.layers[i], self.layers[i-1])\n",
    "            self.network.append({\"weights\": layer, \"forward\": None, \"deltas\": None})\n",
    "            \n",
    "    def _forward_propagation(self, inputs: np.array):\n",
    "        for layer in self.network:\n",
    "            weigths = layer['weights']\n",
    "            inputs = self._activate_function(weigths @ inputs)\n",
    "            layer['forward'] = inputs\n",
    "        return inputs\n",
    "            \n",
    "    def _back_propagation(self, y):\n",
    "        for index in reversed(range(len(self.network))):\n",
    "            layer = self.network[index]\n",
    "            if index == len(self.network)-1:\n",
    "                layer['deltas'] = (y - layer['forward']) * self._derivative_activate_function(layer['forward'])\n",
    "            else:\n",
    "                next_layer = self.network[index+1]\n",
    "                layer['deltas'] = self._derivative_activate_function(layer['forward']) * (next_layer['deltas'] @ next_layer['weights'])        \n",
    "    \n",
    "    def _update_weights(self, inputs, lr):\n",
    "        for index, layer in enumerate(self.network):\n",
    "            if index == 0:\n",
    "                x0, x1 = np.meshgrid(inputs, layer['deltas'])\n",
    "                dw = lr * (x0 * x1)\n",
    "            else:\n",
    "                x0, x1 = np.meshgrid(self.network[index-1]['forward'], layer['deltas'])\n",
    "                dw = lr * (x0 * x1)\n",
    "            \n",
    "            layer['weights'] += dw\n",
    "    \n",
    "    def fit(self, X, y, n_epoch=10000, lr=0.01, verbose_epoch=500):\n",
    "        print(\"learning rate = %.3f\" % lr)\n",
    "        for epoch in range(n_epoch):\n",
    "            for x_, y_ in zip(X, y):\n",
    "                self._forward_propagation(x_)                \n",
    "                self._back_propagation(y_)\n",
    "                self._update_weights(x_, lr)\n",
    "                \n",
    "            if epoch % verbose_epoch == 0:\n",
    "                error = np.sqrt(mean_squared_error(y, self.predict(X)))\n",
    "                print('epoch=%d, error=%.3f' % (epoch, error))\n",
    "            elif epoch == n_epoch-1:\n",
    "                print('epoch=%d, error=%.3f' % (epoch+1, error))\n",
    "            \n",
    "    def predict(self, inputs: np.array, around=None):\n",
    "        output = []\n",
    "        for x in inputs:\n",
    "            output.append(self._forward_propagation(x))\n",
    "        \n",
    "        output = np.array(output)\n",
    "        if around is not None:\n",
    "            output = np.around(output, decimals=around)\n",
    "        return output"
   ]
  },
  {
   "cell_type": "markdown",
   "metadata": {},
   "source": [
    "# The 3x3 counter"
   ]
  },
  {
   "cell_type": "code",
   "execution_count": 96,
   "metadata": {},
   "outputs": [],
   "source": [
    "X = np.array([\n",
    "    [0, 0, 0],\n",
    "    [0, 0, 1],\n",
    "    [0, 1, 0],\n",
    "    [0, 1, 1],\n",
    "    [1, 0, 0],\n",
    "    [1, 0, 1],\n",
    "    [1, 1, 0],\n",
    "    [1, 1, 1]\n",
    "])\n",
    "\n",
    "y = np.array([\n",
    "    [0, 0, 1],\n",
    "    [0, 1, 0],\n",
    "    [0, 1, 1],\n",
    "    [1, 0, 0],\n",
    "    [1, 0, 1],\n",
    "    [1, 1, 0],\n",
    "    [1, 1, 1],\n",
    "    [0, 0, 0]\n",
    "])"
   ]
  },
  {
   "cell_type": "code",
   "execution_count": 97,
   "metadata": {},
   "outputs": [
    {
     "name": "stdout",
     "output_type": "stream",
     "text": [
      "learning rate = 0.200\n",
      "epoch=0, error=0.599\n",
      "epoch=500, error=0.433\n",
      "epoch=1000, error=0.377\n",
      "epoch=1500, error=0.318\n",
      "epoch=2000, error=0.280\n",
      "epoch=2500, error=0.267\n",
      "epoch=3000, error=0.250\n",
      "epoch=3500, error=0.198\n",
      "epoch=4000, error=0.133\n",
      "epoch=4500, error=0.099\n",
      "epoch=5000, error=0.078\n",
      "epoch=5500, error=0.063\n",
      "epoch=6000, error=0.053\n",
      "epoch=6500, error=0.046\n",
      "epoch=7000, error=0.041\n",
      "epoch=7500, error=0.037\n",
      "epoch=8000, error=0.034\n",
      "epoch=8500, error=0.031\n",
      "epoch=9000, error=0.029\n",
      "epoch=9500, error=0.028\n",
      "epoch=10000, error=0.028\n"
     ]
    }
   ],
   "source": [
    "nn = NNetwork([3, 4, 4, 3])\n",
    "nn.fit(X, y, lr=0.2)"
   ]
  },
  {
   "cell_type": "code",
   "execution_count": 98,
   "metadata": {},
   "outputs": [
    {
     "data": {
      "text/plain": [
       "array([[0., 0., 1.],\n",
       "       [0., 1., 0.],\n",
       "       [0., 1., 1.],\n",
       "       [1., 0., 0.],\n",
       "       [1., 0., 1.],\n",
       "       [1., 1., 0.],\n",
       "       [1., 1., 1.],\n",
       "       [0., 0., 0.]])"
      ]
     },
     "execution_count": 98,
     "metadata": {},
     "output_type": "execute_result"
    }
   ],
   "source": [
    "nn.predict(X[:], around=0)"
   ]
  },
  {
   "cell_type": "code",
   "execution_count": null,
   "metadata": {},
   "outputs": [],
   "source": []
  }
 ],
 "metadata": {
  "kernelspec": {
   "display_name": "Python 3",
   "language": "python",
   "name": "python3"
  },
  "language_info": {
   "codemirror_mode": {
    "name": "ipython",
    "version": 3
   },
   "file_extension": ".py",
   "mimetype": "text/x-python",
   "name": "python",
   "nbconvert_exporter": "python",
   "pygments_lexer": "ipython3",
   "version": "3.7.6"
  }
 },
 "nbformat": 4,
 "nbformat_minor": 4
}
