{
 "cells": [
  {
   "cell_type": "code",
   "execution_count": 175,
   "metadata": {},
   "outputs": [],
   "source": [
    "import numpy as np\n",
    "from sklearn.metrics import mean_squared_error\n",
    "from progress.bar import Bar"
   ]
  },
  {
   "cell_type": "markdown",
   "metadata": {},
   "source": [
    "# The neural network class"
   ]
  },
  {
   "cell_type": "code",
   "execution_count": 2,
   "metadata": {},
   "outputs": [],
   "source": [
    "class NNetwork:\n",
    "    def __init__(self, layers: list, activate_function='sigmoid', cost_function='square_error'):\n",
    "        self.layers = layers\n",
    "        self.network = None\n",
    "        \n",
    "        if activate_function == 'sigmoid':\n",
    "            self._activate_function = lambda x: 1/(1 + np.exp(-x))\n",
    "            self._derivative_activate_function = lambda x: x * (1.0 - x)\n",
    "            \n",
    "        if cost_function == 'square_error':\n",
    "            self._cost_function = lambda x, y: 1/2 * (x - y)**2\n",
    "            self._derivative_cost_function = lambda x, y: x - y\n",
    "        \n",
    "        self._initialize_network()\n",
    "    \n",
    "    def _initialize_network(self):\n",
    "        self.network = list()\n",
    "        for i in range(1, len(self.layers)):\n",
    "            layer = np.random.rand(self.layers[i], self.layers[i-1])\n",
    "            self.network.append({\"weights\": layer, \"forward\": None, \"deltas\": None})\n",
    "            \n",
    "    def _forward_propagation(self, inputs: np.array):\n",
    "        for layer in self.network:\n",
    "            weigths = layer['weights']\n",
    "            inputs = self._activate_function(weigths @ inputs)\n",
    "            layer['forward'] = inputs\n",
    "        return inputs\n",
    "            \n",
    "    def _back_propagation(self, y):\n",
    "        for index in reversed(range(len(self.network))):\n",
    "            layer = self.network[index]\n",
    "            if index == len(self.network)-1:\n",
    "                layer['deltas'] = (y - layer['forward']) * self._derivative_activate_function(layer['forward'])\n",
    "            else:\n",
    "                next_layer = self.network[index+1]\n",
    "                layer['deltas'] = self._derivative_activate_function(layer['forward']) * (next_layer['deltas'] @ next_layer['weights'])        \n",
    "    \n",
    "    def _update_weights(self, inputs, lr):\n",
    "        for index, layer in enumerate(self.network):\n",
    "            if index == 0:\n",
    "                x0, x1 = np.meshgrid(inputs, layer['deltas'])\n",
    "                dw = lr * (x0 * x1)\n",
    "            else:\n",
    "                x0, x1 = np.meshgrid(self.network[index-1]['forward'], layer['deltas'])\n",
    "                dw = lr * (x0 * x1)\n",
    "            \n",
    "            layer['weights'] += dw\n",
    "    \n",
    "    def fit(self, X, y, n_epoch=10000, lr=0.01, verbose_epoch=500):\n",
    "        print(\"learning rate = %.3f\" % lr)\n",
    "        for epoch in range(n_epoch):\n",
    "            for x_, y_ in zip(X, y):\n",
    "                self._forward_propagation(x_)                \n",
    "                self._back_propagation(y_)\n",
    "                self._update_weights(x_, lr)\n",
    "                \n",
    "            if epoch % verbose_epoch == 0:\n",
    "                error = np.sqrt(mean_squared_error(y, self.predict(X)))\n",
    "                print('epoch=%d, error=%.3f' % (epoch, error))\n",
    "            elif epoch == n_epoch-1:\n",
    "                print('epoch=%d, error=%.3f' % (epoch+1, error))\n",
    "            \n",
    "    def predict(self, inputs: np.array, around=None):\n",
    "        output = []\n",
    "        for x in inputs:\n",
    "            output.append(self._forward_propagation(x))\n",
    "        \n",
    "        output = np.array(output)\n",
    "        if around is not None:\n",
    "            output = np.around(output, decimals=around)\n",
    "        return output"
   ]
  },
  {
   "cell_type": "markdown",
   "metadata": {},
   "source": [
    "# The 3x3 counter"
   ]
  },
  {
   "cell_type": "code",
   "execution_count": 27,
   "metadata": {},
   "outputs": [],
   "source": [
    "X = np.array([\n",
    "    [0, 0, 0],\n",
    "    [0, 0, 1],\n",
    "    [0, 1, 0],\n",
    "    [0, 1, 1],\n",
    "    [1, 0, 0],\n",
    "    [1, 0, 1],\n",
    "    [1, 1, 0],\n",
    "    [1, 1, 1]\n",
    "])\n",
    "\n",
    "y = np.array([\n",
    "    [0, 0, 1],\n",
    "    [0, 1, 0],\n",
    "    [0, 1, 1],\n",
    "    [1, 0, 0],\n",
    "    [1, 0, 1],\n",
    "    [1, 1, 0],\n",
    "    [1, 1, 1],\n",
    "    [0, 0, 0]\n",
    "])"
   ]
  },
  {
   "cell_type": "code",
   "execution_count": 10,
   "metadata": {},
   "outputs": [
    {
     "name": "stdout",
     "output_type": "stream",
     "text": [
      "learning rate = 0.200\n",
      "epoch=0, error=0.613\n",
      "epoch=500, error=0.424\n",
      "epoch=1000, error=0.397\n",
      "epoch=1500, error=0.348\n",
      "epoch=2000, error=0.325\n",
      "epoch=2500, error=0.285\n",
      "epoch=3000, error=0.226\n",
      "epoch=3500, error=0.148\n",
      "epoch=4000, error=0.079\n",
      "epoch=4500, error=0.058\n",
      "epoch=5000, error=0.047\n",
      "epoch=5500, error=0.041\n",
      "epoch=6000, error=0.036\n",
      "epoch=6500, error=0.033\n",
      "epoch=7000, error=0.031\n",
      "epoch=7500, error=0.029\n",
      "epoch=8000, error=0.027\n",
      "epoch=8500, error=0.026\n",
      "epoch=9000, error=0.024\n",
      "epoch=9500, error=0.023\n",
      "epoch=10000, error=0.023\n"
     ]
    }
   ],
   "source": [
    "nn = NNetwork([3, 5, 5, 3])\n",
    "nn.fit(X, y, lr=0.2)"
   ]
  },
  {
   "cell_type": "code",
   "execution_count": 98,
   "metadata": {},
   "outputs": [
    {
     "data": {
      "text/plain": [
       "array([[0., 0., 1.],\n",
       "       [0., 1., 0.],\n",
       "       [0., 1., 1.],\n",
       "       [1., 0., 0.],\n",
       "       [1., 0., 1.],\n",
       "       [1., 1., 0.],\n",
       "       [1., 1., 1.],\n",
       "       [0., 0., 0.]])"
      ]
     },
     "execution_count": 98,
     "metadata": {},
     "output_type": "execute_result"
    }
   ],
   "source": [
    "nn.predict(X[:], around=0)"
   ]
  },
  {
   "cell_type": "markdown",
   "metadata": {},
   "source": [
    "# The 4x4 counter"
   ]
  },
  {
   "cell_type": "code",
   "execution_count": 92,
   "metadata": {},
   "outputs": [],
   "source": [
    "X = np.array([\n",
    "    [0, 0, 0, 0],\n",
    "    [0, 0, 0, 1],\n",
    "    [0, 0, 1, 0],\n",
    "    [0, 0, 1, 1],\n",
    "    [0, 1, 0, 0],\n",
    "    [0, 1, 0, 1],\n",
    "    [0, 1, 1, 0],\n",
    "    [0, 1, 1, 1],\n",
    "    [1, 0, 0, 0],\n",
    "    [1, 0, 0, 1],\n",
    "    [1, 0, 1, 0],\n",
    "    [1, 0, 1, 1],\n",
    "    [1, 1, 0, 0],\n",
    "    [1, 1, 0, 1],\n",
    "    [1, 1, 1, 0],\n",
    "    [1, 1, 1, 1]\n",
    "])\n",
    "\n",
    "y = np.array([\n",
    "    [0, 0, 0, 1],\n",
    "    [0, 0, 1, 0],\n",
    "    [0, 0, 1, 1],\n",
    "    [0, 1, 0, 0],\n",
    "    [0, 1, 0, 1],\n",
    "    [0, 1, 1, 0],\n",
    "    [0, 1, 1, 1],\n",
    "    [1, 0, 0, 0],\n",
    "    [1, 0, 0, 1],\n",
    "    [1, 0, 1, 0],\n",
    "    [1, 0, 1, 1],\n",
    "    [1, 1, 0, 0],\n",
    "    [1, 1, 0, 1],\n",
    "    [1, 1, 1, 0],\n",
    "    [1, 1, 1, 1],\n",
    "    [0, 0, 0, 0]\n",
    "])"
   ]
  },
  {
   "cell_type": "code",
   "execution_count": 7,
   "metadata": {},
   "outputs": [
    {
     "name": "stdout",
     "output_type": "stream",
     "text": [
      "learning rate = 0.200\n",
      "epoch=0, error=0.627\n",
      "epoch=500, error=0.377\n",
      "epoch=1000, error=0.234\n",
      "epoch=1500, error=0.125\n",
      "epoch=2000, error=0.107\n",
      "epoch=2500, error=0.100\n",
      "epoch=3000, error=0.097\n",
      "epoch=3500, error=0.095\n",
      "epoch=4000, error=0.094\n",
      "epoch=4500, error=0.093\n",
      "epoch=5000, error=0.092\n",
      "epoch=5500, error=0.092\n",
      "epoch=6000, error=0.091\n",
      "epoch=6500, error=0.091\n",
      "epoch=7000, error=0.090\n",
      "epoch=7500, error=0.066\n",
      "epoch=8000, error=0.045\n",
      "epoch=8500, error=0.037\n",
      "epoch=9000, error=0.032\n",
      "epoch=9500, error=0.029\n",
      "epoch=10000, error=0.027\n",
      "epoch=10500, error=0.025\n",
      "epoch=11000, error=0.023\n",
      "epoch=11500, error=0.022\n",
      "epoch=12000, error=0.021\n",
      "epoch=12500, error=0.020\n",
      "epoch=13000, error=0.019\n",
      "epoch=13500, error=0.019\n",
      "epoch=14000, error=0.018\n",
      "epoch=14500, error=0.017\n",
      "epoch=15000, error=0.017\n",
      "epoch=15500, error=0.016\n",
      "epoch=16000, error=0.016\n",
      "epoch=16500, error=0.016\n",
      "epoch=17000, error=0.015\n",
      "epoch=17500, error=0.015\n",
      "epoch=18000, error=0.015\n",
      "epoch=18500, error=0.014\n",
      "epoch=19000, error=0.014\n",
      "epoch=19500, error=0.014\n",
      "epoch=20000, error=0.014\n"
     ]
    }
   ],
   "source": [
    "nn = NNetwork([4, 6, 6, 4])\n",
    "nn.fit(X, y, n_epoch=20000, lr=0.2)"
   ]
  },
  {
   "cell_type": "code",
   "execution_count": 8,
   "metadata": {},
   "outputs": [
    {
     "data": {
      "text/plain": [
       "array([[0., 0., 0., 1.],\n",
       "       [0., 0., 1., 0.],\n",
       "       [0., 0., 1., 1.],\n",
       "       [0., 1., 0., 0.],\n",
       "       [0., 1., 0., 1.],\n",
       "       [0., 1., 1., 0.],\n",
       "       [0., 1., 1., 1.],\n",
       "       [1., 0., 0., 0.],\n",
       "       [1., 0., 0., 1.],\n",
       "       [1., 0., 1., 0.],\n",
       "       [1., 0., 1., 1.],\n",
       "       [1., 1., 0., 0.],\n",
       "       [1., 1., 0., 1.],\n",
       "       [1., 1., 1., 0.],\n",
       "       [1., 1., 1., 1.],\n",
       "       [0., 0., 0., 0.]])"
      ]
     },
     "execution_count": 8,
     "metadata": {},
     "output_type": "execute_result"
    }
   ],
   "source": [
    "nn.predict(X[:], around=0)"
   ]
  },
  {
   "cell_type": "markdown",
   "metadata": {},
   "source": [
    "# New realization with the grid search method"
   ]
  },
  {
   "cell_type": "code",
   "execution_count": 176,
   "metadata": {},
   "outputs": [],
   "source": [
    "class Layer:\n",
    "    def __init__(self, numbers):\n",
    "        self.numbers = numbers\n",
    "    \n",
    "    def __repr__(self):\n",
    "        return self.numbers.__repr__()\n",
    "    \n",
    "    def __str__(self):\n",
    "        return self.numbers.__str__()\n",
    "\n",
    "class NNetwork:\n",
    "    def __init__(self, layer: Layer, activate_function='sigmoid', cost_function='squared_error'):\n",
    "        self.layers = layer.numbers\n",
    "        self.network = None\n",
    "        \n",
    "        if activate_function == 'sigmoid':\n",
    "            self._activate_function = lambda x: 1/(1 + np.exp(-x))\n",
    "            self._derivative_activate_function = lambda x: x * (1.0 - x)\n",
    "            \n",
    "        if cost_function == 'squared_error':\n",
    "            self._cost_function = lambda x, y: 1/2 * (x - y)**2\n",
    "            self._derivative_cost_function = lambda x, y: x - y\n",
    "        \n",
    "        self._initialize_network()\n",
    "    \n",
    "    def _initialize_network(self):\n",
    "        self.network = list()\n",
    "        for i in range(1, len(self.layers)):\n",
    "            layer = np.random.rand(self.layers[i], self.layers[i-1])\n",
    "            self.network.append({\"weights\": layer, \"forward\": None, \"deltas\": None})\n",
    "            \n",
    "    def _forward_propagation(self, inputs: np.array):\n",
    "        for layer in self.network:\n",
    "            weigths = layer['weights']\n",
    "            inputs = self._activate_function(weigths @ inputs)\n",
    "            layer['forward'] = inputs\n",
    "        return inputs\n",
    "            \n",
    "    def _back_propagation(self, y):\n",
    "        for index in reversed(range(len(self.network))):\n",
    "            layer = self.network[index]\n",
    "            if index == len(self.network)-1:\n",
    "                layer['deltas'] = (y - layer['forward']) * self._derivative_activate_function(layer['forward'])\n",
    "            else:\n",
    "                next_layer = self.network[index+1]\n",
    "                layer['deltas'] = self._derivative_activate_function(layer['forward']) * (next_layer['deltas'] @ next_layer['weights'])        \n",
    "    \n",
    "    def _update_weights(self, inputs, lr):\n",
    "        for index, layer in enumerate(self.network):\n",
    "            if index == 0:\n",
    "                x0, x1 = np.meshgrid(inputs, layer['deltas'])\n",
    "                dw = lr * (x0 * x1)\n",
    "            else:\n",
    "                x0, x1 = np.meshgrid(self.network[index-1]['forward'], layer['deltas'])\n",
    "                dw = lr * (x0 * x1)\n",
    "            \n",
    "            layer['weights'] += dw\n",
    "    \n",
    "    def fit(self, X, y, n_epoch=10000, lr=0.01, verbose=True, verbose_epoch=500):\n",
    "        if verbose:\n",
    "            print(\"learning rate = %.3f\" % lr)\n",
    "        for epoch in range(n_epoch):\n",
    "            for x_, y_ in zip(X, y):\n",
    "                self._forward_propagation(x_)                \n",
    "                self._back_propagation(y_)\n",
    "                self._update_weights(x_, lr)\n",
    "            \n",
    "            if verbose:\n",
    "                if epoch % verbose_epoch == 0:\n",
    "                    error = np.sqrt(mean_squared_error(y, self.predict(X)))\n",
    "                    print('epoch=%d, error=%.3f' % (epoch, error))\n",
    "                elif epoch == n_epoch-1:\n",
    "                    print('epoch=%d, error=%.3f' % (epoch+1, error))\n",
    "            \n",
    "    def predict(self, inputs: np.array, around=None):\n",
    "        output = []\n",
    "        for x in inputs:\n",
    "            output.append(self._forward_propagation(x))\n",
    "        \n",
    "        output = np.array(output)\n",
    "        if around is not None:\n",
    "            output = np.around(output, decimals=around)\n",
    "        return output"
   ]
  },
  {
   "cell_type": "code",
   "execution_count": 207,
   "metadata": {},
   "outputs": [],
   "source": [
    "grid_params = [\n",
    "    {'layers': [Layer([4, 6, 6, 4]), Layer([4, 7, 7, 4]), Layer([4, 8, 8, 4]), Layer([4, 3, 4, 3, 4])], 'activate_function': ['sigmoid'], \n",
    "     'cost_function': ['squared_error'], 'n_epoch': [30000], 'lr': [0.3, 0.35]}\n",
    "]"
   ]
  },
  {
   "cell_type": "code",
   "execution_count": 208,
   "metadata": {},
   "outputs": [],
   "source": [
    "class GridSearch:\n",
    "    def __init__(self, grid_params):\n",
    "        self.grid_params = grid_params\n",
    "        self.best_estimator = None\n",
    "        self.best_params = None\n",
    "        \n",
    "    def fit(self, X, y, split_data=True):\n",
    "        X_train, X_test, y_train, y_test = X, X, y, y\n",
    "        if split_data:\n",
    "            X_train, X_test, y_train, y_test = train_test_split(X, y, test_size=0.3)\n",
    "        \n",
    "        min_error = np.inf\n",
    "        \n",
    "        for gp in self.grid_params:            \n",
    "            grid_params = np.array(np.meshgrid(*gp.values())).T.reshape(-1, len(gp))\n",
    "            \n",
    "            for params in grid_params:                \n",
    "                params = {key: value for key, value in zip(gp.keys(), params)}\n",
    "                print(\"Parameters: \")\n",
    "                for key, value in params.items():\n",
    "                    print(f\"{key}: {value}\")\n",
    "                \n",
    "                estimator = NNetwork(layer=params['layers'], activate_function=params['activate_function'], cost_function=params['cost_function'])\n",
    "                estimator.fit(X_train, y_train, n_epoch=params['n_epoch'], lr=params['lr'], verbose=False)\n",
    "                \n",
    "                error = np.sqrt(mean_squared_error(y_test, estimator.predict(X_test)))\n",
    "                print(\"Loss: \", error, '\\n')\n",
    "                if error < min_error:\n",
    "                    self.best_estimator = estimator\n",
    "                    self.best_params = params\n",
    "                    self.best_loss = error\n",
    "                    min_error = error"
   ]
  },
  {
   "cell_type": "code",
   "execution_count": 210,
   "metadata": {},
   "outputs": [
    {
     "name": "stdout",
     "output_type": "stream",
     "text": [
      "Parameters: \n",
      "layers: [4, 6, 6, 4]\n",
      "activate_function: sigmoid\n",
      "cost_function: squared_error\n",
      "n_epoch: 30000\n",
      "lr: 0.3\n",
      "Loss:  0.006935393714144258 \n",
      "\n",
      "Parameters: \n",
      "layers: [4, 7, 7, 4]\n",
      "activate_function: sigmoid\n",
      "cost_function: squared_error\n",
      "n_epoch: 30000\n",
      "lr: 0.3\n",
      "Loss:  0.005863674423809358 \n",
      "\n",
      "Parameters: \n",
      "layers: [4, 8, 8, 4]\n",
      "activate_function: sigmoid\n",
      "cost_function: squared_error\n",
      "n_epoch: 30000\n",
      "lr: 0.3\n",
      "Loss:  0.0045208275322569935 \n",
      "\n",
      "Parameters: \n",
      "layers: [4, 3, 4, 3, 4]\n",
      "activate_function: sigmoid\n",
      "cost_function: squared_error\n",
      "n_epoch: 30000\n",
      "lr: 0.3\n",
      "Loss:  0.36212507793680293 \n",
      "\n",
      "Parameters: \n",
      "layers: [4, 6, 6, 4]\n",
      "activate_function: sigmoid\n",
      "cost_function: squared_error\n",
      "n_epoch: 30000\n",
      "lr: 0.35\n",
      "Loss:  0.006526271865093276 \n",
      "\n",
      "Parameters: \n",
      "layers: [4, 7, 7, 4]\n",
      "activate_function: sigmoid\n",
      "cost_function: squared_error\n",
      "n_epoch: 30000\n",
      "lr: 0.35\n",
      "Loss:  0.006445633989924597 \n",
      "\n",
      "Parameters: \n",
      "layers: [4, 8, 8, 4]\n",
      "activate_function: sigmoid\n",
      "cost_function: squared_error\n",
      "n_epoch: 30000\n",
      "lr: 0.35\n",
      "Loss:  0.005637163185402979 \n",
      "\n",
      "Parameters: \n",
      "layers: [4, 3, 4, 3, 4]\n",
      "activate_function: sigmoid\n",
      "cost_function: squared_error\n",
      "n_epoch: 30000\n",
      "lr: 0.35\n",
      "Loss:  0.3454972482164258 \n",
      "\n"
     ]
    }
   ],
   "source": [
    "gs = GridSearch(grid_params)\n",
    "gs.fit(X, y, False)"
   ]
  },
  {
   "cell_type": "code",
   "execution_count": 213,
   "metadata": {},
   "outputs": [
    {
     "data": {
      "text/plain": [
       "{'layers': [4, 8, 8, 4],\n",
       " 'activate_function': 'sigmoid',\n",
       " 'cost_function': 'squared_error',\n",
       " 'n_epoch': 30000,\n",
       " 'lr': 0.3}"
      ]
     },
     "execution_count": 213,
     "metadata": {},
     "output_type": "execute_result"
    }
   ],
   "source": [
    "gs.best_params"
   ]
  },
  {
   "cell_type": "code",
   "execution_count": 214,
   "metadata": {},
   "outputs": [
    {
     "data": {
      "text/plain": [
       "0.0045208275322569935"
      ]
     },
     "execution_count": 214,
     "metadata": {},
     "output_type": "execute_result"
    }
   ],
   "source": [
    "gs.best_loss"
   ]
  }
 ],
 "metadata": {
  "kernelspec": {
   "display_name": "Python 3",
   "language": "python",
   "name": "python3"
  },
  "language_info": {
   "codemirror_mode": {
    "name": "ipython",
    "version": 3
   },
   "file_extension": ".py",
   "mimetype": "text/x-python",
   "name": "python",
   "nbconvert_exporter": "python",
   "pygments_lexer": "ipython3",
   "version": "3.7.6"
  }
 },
 "nbformat": 4,
 "nbformat_minor": 4
}
