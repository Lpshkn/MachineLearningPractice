{
 "cells": [
  {
   "cell_type": "code",
   "execution_count": 2,
   "metadata": {},
   "outputs": [],
   "source": [
    "import numpy as np"
   ]
  },
  {
   "cell_type": "code",
   "execution_count": 3,
   "metadata": {},
   "outputs": [],
   "source": [
    "X = np.array([\n",
    "    [0, 0, 0],\n",
    "    [0, 0, 1],\n",
    "    [0, 1, 0],\n",
    "    [0, 1, 1],\n",
    "    [1, 0, 0],\n",
    "    [1, 0, 1],\n",
    "    [1, 1, 0],\n",
    "    [1, 1, 1]\n",
    "])\n",
    "\n",
    "y = np.array([\n",
    "    [0, 0, 1],\n",
    "    [0, 1, 0],\n",
    "    [0, 1, 1],\n",
    "    [1, 0, 0],\n",
    "    [1, 0, 1],\n",
    "    [1, 1, 0],\n",
    "    [1, 1, 1],\n",
    "    [0, 0, 0]\n",
    "])"
   ]
  },
  {
   "cell_type": "code",
   "execution_count": 148,
   "metadata": {},
   "outputs": [],
   "source": [
    "X = np.array([[2.7810836,2.550537003],\n",
    "              [1.465489372,2.362125076],\n",
    "              [3.396561688,4.400293529],\n",
    "              [1.38807019,1.850220317],\n",
    "              [3.06407232,3.005305973],\n",
    "              [7.627531214,2.759262235],\n",
    "              [5.332441248,2.088626775],\n",
    "              [6.922596716,1.77106367],\n",
    "              [8.675418651,-0.242068655],\n",
    "              [7.673756466,3.508563011]])\n",
    "y = np.array([[0],\n",
    "     [0],\n",
    "     [0],\n",
    "     [0],\n",
    "     [0],\n",
    "     [1],\n",
    "     [1],\n",
    "     [1],\n",
    "     [1],\n",
    "     [1]])"
   ]
  },
  {
   "cell_type": "code",
   "execution_count": 201,
   "metadata": {},
   "outputs": [],
   "source": [
    "class NNetwork:\n",
    "    def __init__(self, layers: list, activate_function='sigmoid', cost_function='square_error'):\n",
    "        self.layers = layers\n",
    "        self.network = None\n",
    "        \n",
    "        if activate_function == 'sigmoid':\n",
    "            self._activate_function = lambda x: 1/(1 + np.exp(-x))\n",
    "            self._derivative_activate_function = lambda x: x * (1.0 - x)\n",
    "            \n",
    "        if cost_function == 'square_error':\n",
    "            self._cost_function = lambda x, y: 1/2 * (x - y)**2\n",
    "            self._derivative_cost_function = lambda x, y: x - y\n",
    "        \n",
    "        self._initialize_network()\n",
    "    \n",
    "    def _initialize_network(self):\n",
    "        self.network = list()\n",
    "        for i in range(1, len(self.layers)):\n",
    "            layer = np.random.rand(self.layers[i], self.layers[i-1])\n",
    "            self.network.append({\"weights\": layer, \"forward\": None, \"deltas\": None})\n",
    "            \n",
    "    def _forward_propagation(self, inputs: np.array):\n",
    "        for layer in self.network:\n",
    "            weigths = layer['weights']\n",
    "            inputs = self._activate_function(weigths @ inputs)\n",
    "            layer['forward'] = inputs\n",
    "        return inputs\n",
    "            \n",
    "    def _back_propagation(self, y):\n",
    "        for index in reversed(range(len(self.network))):\n",
    "            layer = self.network[index]\n",
    "            if index == len(self.network)-1:\n",
    "                layer['deltas'] = (y - layer['forward']) * self._derivative_activate_function(layer['forward'])\n",
    "            else:\n",
    "                next_layer = self.network[index+1]\n",
    "                layer['deltas'] = self._derivative_activate_function(layer['forward']) * (next_layer['deltas'] @ next_layer['weights'])        \n",
    "    \n",
    "    def _update_weights(self, inputs, lr):\n",
    "        for index, layer in enumerate(self.network):\n",
    "            if index == 0:\n",
    "                x0, x1 = np.meshgrid(inputs, layer['deltas'])\n",
    "                dw = lr * (x0 * x1)\n",
    "            else:\n",
    "                x0, x1 = np.meshgrid(self.network[index-1]['forward'], layer['deltas'])\n",
    "                dw = lr * (x0 * x1)\n",
    "            \n",
    "            layer['weights'] -= dw\n",
    "    \n",
    "    def fit(self, X, y, n_epoch=10000, lr=0.01):\n",
    "        for i in range(n_epoch):\n",
    "            for x_, y_ in zip(X, y):\n",
    "                self._forward_propagation(x_)\n",
    "                self._back_propagation(y_)\n",
    "                self._update_weights(x_, lr)\n",
    "\n",
    "                \n",
    "    def predict(self, inputs: list):\n",
    "        return self._forward_propagation(inputs)"
   ]
  },
  {
   "cell_type": "code",
   "execution_count": 224,
   "metadata": {},
   "outputs": [],
   "source": [
    "nn = NNetwork([2, 3, 3, 1])"
   ]
  },
  {
   "cell_type": "code",
   "execution_count": 227,
   "metadata": {},
   "outputs": [],
   "source": [
    "nn.fit(X, y, lr=0.00001)"
   ]
  },
  {
   "cell_type": "code",
   "execution_count": 228,
   "metadata": {},
   "outputs": [
    {
     "data": {
      "text/plain": [
       "[{'weights': array([[0.421644  , 0.79252995],\n",
       "         [0.50976989, 0.56029118],\n",
       "         [0.78035381, 0.27347719]]),\n",
       "  'forward': array([0.9975671 , 0.99720651, 0.99904013]),\n",
       "  'deltas': array([5.52847002e-06, 1.11827184e-05, 1.80479708e-06])},\n",
       " {'weights': array([[0.38952701, 0.91867295, 0.61227664],\n",
       "         [0.56305197, 0.91977888, 0.19083824],\n",
       "         [0.26689416, 0.37221805, 0.35890954]]),\n",
       "  'forward': array([0.87173365, 0.84151538, 0.73026908]),\n",
       "  'deltas': array([0.00140479, 0.0023051 , 0.00162171])},\n",
       " {'weights': array([[0.71234142, 0.97997408, 0.46680236]]),\n",
       "  'forward': array([0.85650094]),\n",
       "  'deltas': array([0.01763705])}]"
      ]
     },
     "execution_count": 228,
     "metadata": {},
     "output_type": "execute_result"
    }
   ],
   "source": [
    "nn.network"
   ]
  }
 ],
 "metadata": {
  "kernelspec": {
   "display_name": "Python 3",
   "language": "python",
   "name": "python3"
  },
  "language_info": {
   "codemirror_mode": {
    "name": "ipython",
    "version": 3
   },
   "file_extension": ".py",
   "mimetype": "text/x-python",
   "name": "python",
   "nbconvert_exporter": "python",
   "pygments_lexer": "ipython3",
   "version": "3.7.6"
  }
 },
 "nbformat": 4,
 "nbformat_minor": 4
}
